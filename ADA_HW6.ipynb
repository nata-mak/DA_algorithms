{
 "cells": [
  {
   "cell_type": "code",
   "execution_count": 165,
   "id": "752f14c0",
   "metadata": {},
   "outputs": [],
   "source": [
    "from sklearn.tree import DecisionTreeRegressor\n",
    "from sklearn import model_selection\n",
    "import numpy as np\n",
    "import random"
   ]
  },
  {
   "cell_type": "markdown",
   "id": "3b014291",
   "metadata": {},
   "source": [
    "### Задание 1\n",
    "Для реализованной модели градиентного бустинга постройте графики зависимости ошибки от количества деревьев в ансамбле и от максимальной глубины деревьев. Сделайте выводы о зависимости ошибки от этих параметров."
   ]
  },
  {
   "cell_type": "code",
   "execution_count": 166,
   "id": "ce9fc53e",
   "metadata": {},
   "outputs": [],
   "source": [
    "from sklearn.datasets import load_diabetes"
   ]
  },
  {
   "cell_type": "code",
   "execution_count": 167,
   "id": "31ba9f68",
   "metadata": {},
   "outputs": [],
   "source": [
    "X, y = load_diabetes(return_X_y=True)"
   ]
  },
  {
   "cell_type": "code",
   "execution_count": 168,
   "id": "6455d648",
   "metadata": {},
   "outputs": [],
   "source": [
    "X_train, X_test, y_train, y_test = model_selection.train_test_split(X, y, test_size=0.25)"
   ]
  },
  {
   "cell_type": "code",
   "execution_count": 169,
   "id": "84a6514a",
   "metadata": {},
   "outputs": [],
   "source": [
    "def gb_predict(X, trees_list, coef_list, eta):\n",
    "    # Реализуемый алгоритм градиентного бустинга будет инициализироваться нулевыми значениями,\n",
    "    # поэтому все деревья из списка trees_list уже считаются дополнительными и при предсказании прибавляются с шагом eta\n",
    "    return np.array([sum([eta* coef * alg.predict([x])[0] for alg, coef in zip(trees_list, coef_list)]) for x in X])"
   ]
  },
  {
   "cell_type": "code",
   "execution_count": 170,
   "id": "e5749c9f",
   "metadata": {},
   "outputs": [],
   "source": [
    "def mean_squared_error(y_real, prediction):\n",
    "    return (sum((y_real - prediction)**2)) / len(y_real)"
   ]
  },
  {
   "cell_type": "markdown",
   "id": "9ad95ed3",
   "metadata": {},
   "source": [
    "Используем $L_{2}$ loss $L(y, z) = (y-z)^{2},$ её производная по $z$ примет вид $L'(y, z) = 2(z-y)$. Реализуем её также в виде функции — коэффициент 2 можно отбросить."
   ]
  },
  {
   "cell_type": "code",
   "execution_count": 171,
   "id": "14a129ec",
   "metadata": {},
   "outputs": [],
   "source": [
    "def bias(y, z):\n",
    "    return (y - z)"
   ]
  },
  {
   "cell_type": "code",
   "execution_count": 172,
   "id": "a7d22610",
   "metadata": {},
   "outputs": [],
   "source": [
    "def gb_fit(n_trees, max_depth, X_train, X_test, y_train, y_test, coefs, eta):\n",
    "    \n",
    "    # Деревья будем записывать в список\n",
    "    trees = []\n",
    "    \n",
    "    # Будем записывать ошибки на обучающей и тестовой выборке на каждой итерации в список\n",
    "    train_errors = []\n",
    "    test_errors = []\n",
    "    \n",
    "    for i in range(n_trees):\n",
    "        tree = DecisionTreeRegressor(max_depth=max_depth, random_state=42)\n",
    "\n",
    "        # инициализируем бустинг начальным алгоритмом, возвращающим ноль, \n",
    "        # поэтому первый алгоритм просто обучаем на выборке и добавляем в список\n",
    "        if len(trees) == 0:\n",
    "            # обучаем первое дерево на обучающей выборке\n",
    "            tree.fit(X_train, y_train)\n",
    "            \n",
    "            train_errors.append(mean_squared_error(y_train, gb_predict(X_train, trees, coefs, eta)))\n",
    "            test_errors.append(mean_squared_error(y_test, gb_predict(X_test, trees, coefs, eta)))\n",
    "        else:\n",
    "            # Получим ответы на текущей композиции\n",
    "            target = gb_predict(X_train, trees, coefs, eta)\n",
    "            \n",
    "            # алгоритмы начиная со второго обучаем на сдвиг\n",
    "            tree.fit(X_train, bias(y_train, target))\n",
    "            \n",
    "            train_errors.append(mean_squared_error(y_train, gb_predict(X_train, trees, coefs, eta)))\n",
    "            test_errors.append(mean_squared_error(y_test, gb_predict(X_test, trees, coefs, eta)))\n",
    "\n",
    "        trees.append(tree)\n",
    "        \n",
    "    return trees, train_errors, test_errors"
   ]
  },
  {
   "cell_type": "code",
   "execution_count": 173,
   "id": "7e9d0502",
   "metadata": {},
   "outputs": [],
   "source": [
    "# Число деревьев в ансамбле\n",
    "n_trees = 10\n",
    "\n",
    "# для простоты примем коэффициенты равными 1\n",
    "coefs = [1] * n_trees\n",
    "\n",
    "# Максимальная глубина деревьев\n",
    "max_depth = 3\n",
    "\n",
    "# Шаг\n",
    "eta = 0.1\n",
    "\n",
    "trees, train_errors, test_errors = gb_fit(n_trees, max_depth, X_train, X_test, y_train, y_test, coefs, eta)"
   ]
  },
  {
   "cell_type": "code",
   "execution_count": 174,
   "id": "b163aae6",
   "metadata": {},
   "outputs": [],
   "source": [
    "def evaluate_alg(X_train, X_test, y_train, y_test, trees, coefs, eta):\n",
    "    train_prediction = gb_predict(X_train, trees, coefs, eta)\n",
    "\n",
    "    print(f'Ошибка алгоритма из {n_trees} деревьев глубиной {max_depth} \\\n",
    "    с шагом {eta} на тренировочной выборке: {mean_squared_error(y_train, train_prediction)}')\n",
    "\n",
    "    test_prediction = gb_predict(X_test, trees, coefs, eta)\n",
    "\n",
    "    print(f'Ошибка алгоритма из {n_trees} деревьев глубиной {max_depth} \\\n",
    "    с шагом {eta} на тестовой выборке: {mean_squared_error(y_test, test_prediction)}')"
   ]
  },
  {
   "cell_type": "code",
   "execution_count": 175,
   "id": "2b693c60",
   "metadata": {},
   "outputs": [
    {
     "name": "stdout",
     "output_type": "stream",
     "text": [
      "Ошибка алгоритма из 10 деревьев глубиной 3     с шагом 0.1 на тренировочной выборке: 5922.2127783452215\n",
      "Ошибка алгоритма из 10 деревьев глубиной 3     с шагом 0.1 на тестовой выборке: 5095.755586439804\n"
     ]
    }
   ],
   "source": [
    "evaluate_alg(X_train, X_test, y_train, y_test, trees, coefs, eta)"
   ]
  },
  {
   "cell_type": "code",
   "execution_count": 176,
   "id": "9984a620",
   "metadata": {},
   "outputs": [],
   "source": [
    "import matplotlib.pyplot as plt\n",
    "%matplotlib inline"
   ]
  },
  {
   "cell_type": "markdown",
   "id": "8d14b9d6",
   "metadata": {},
   "source": [
    "#### График зависимости ошибки от количества деревьев в ансамбле:"
   ]
  },
  {
   "cell_type": "code",
   "execution_count": 177,
   "id": "049776eb",
   "metadata": {},
   "outputs": [],
   "source": [
    "n_trees = np.arange(1, 50, 5)\n",
    "eta = 0.1\n",
    "\n",
    "def plot_n_trees_error(n_trees=n_trees, max_depth=3):\n",
    "    train_errors_list = [] \n",
    "    test_errors_list = []\n",
    "    for i in n_trees:\n",
    "        tree, train_errors, test_errors = gb_fit(i, max_depth, X_train, X_test, y_train, y_test, coefs, eta)\n",
    "        train_errors_list.append(train_errors[-1])\n",
    "        test_errors_list.append(test_errors[-1])\n",
    "        \n",
    "    plt.xlabel('Number of trees')\n",
    "    plt.ylabel('MSE')\n",
    "    plt.plot(n_trees, train_errors_list, label='train error')\n",
    "    plt.plot(n_trees, test_errors_list, label='test error')\n",
    "    plt.legend(loc='upper right')\n",
    "    plt.show()"
   ]
  },
  {
   "cell_type": "code",
   "execution_count": 178,
   "id": "9876a7a2",
   "metadata": {},
   "outputs": [
    {
     "data": {
      "image/png": "[encoded data removed]",
      "text/plain": [
       "<Figure size 432x288 with 1 Axes>"
      ]
     },
     "metadata": {
      "needs_background": "light"
     },
     "output_type": "display_data"
    }
   ],
   "source": [
    "plot_n_trees_error(n_trees=n_trees, max_depth=3)"
   ]
  },
  {
   "cell_type": "markdown",
   "id": "eabd82cc",
   "metadata": {},
   "source": [
    "По графику видно, что при количестве деревьев примерно больше 11, ошибка на обеих выборках снижается уже не так существенно."
   ]
  },
  {
   "cell_type": "markdown",
   "id": "76459ef0",
   "metadata": {},
   "source": [
    "#### График зависимости ошибки от максимальной глубины деревьев:"
   ]
  },
  {
   "cell_type": "code",
   "execution_count": 179,
   "id": "57f620be",
   "metadata": {},
   "outputs": [],
   "source": [
    "max_depth = np.arange(1, 11)\n",
    "eta = 0.1\n",
    "\n",
    "def plot_max_depth_error(n_trees=10, max_depth=max_depth):\n",
    "    train_errors_list = [] \n",
    "    test_errors_list = []\n",
    "    for i in max_depth:\n",
    "        tree, train_errors, test_errors = gb_fit(n_trees, i, X_train, X_test, y_train, y_test, coefs, eta)\n",
    "        train_errors_list.append(train_errors[-1])\n",
    "        test_errors_list.append(test_errors[-1])\n",
    "        \n",
    "    plt.xlabel('Max_depth')\n",
    "    plt.ylabel('MSE')\n",
    "    plt.plot(max_depth, train_errors_list, label='train error')\n",
    "    plt.plot(max_depth, test_errors_list, label='test error')\n",
    "    plt.legend(loc='upper right')\n",
    "    plt.show()"
   ]
  },
  {
   "cell_type": "code",
   "execution_count": 180,
   "id": "0072ddfc",
   "metadata": {},
   "outputs": [
    {
     "data": {
      "image/png": "[encoded data removed]",
      "text/plain": [
       "<Figure size 432x288 with 1 Axes>"
      ]
     },
     "metadata": {
      "needs_background": "light"
     },
     "output_type": "display_data"
    }
   ],
   "source": [
    "plot_max_depth_error(n_trees=10, max_depth=max_depth)"
   ]
  },
  {
   "cell_type": "markdown",
   "id": "b5ead28b",
   "metadata": {},
   "source": [
    "По графикам можно заметить, что чем больше максимальная глубина деревьев, тем больше переобучается модель: ошибка на трейне падает, а вот на тестовой выборке растет. Важно найти оптимальный баланс по настраиваемым параметрам обучения градиентного бустинга. В данном случае оптимальное значение max_depth около 5."
   ]
  },
  {
   "cell_type": "markdown",
   "id": "0ccb768c",
   "metadata": {},
   "source": [
    "### Задание 2\n",
    "Модифицируйте реализованный алгоритм, чтобы получился стохастический градиентный бустинг. Размер подвыборки примите равным 0.5. Сравните на одном графике кривые изменения ошибки на тестовой выборке в зависимости от числа итераций."
   ]
  },
  {
   "cell_type": "code",
   "execution_count": 182,
   "id": "f4b8b0d6",
   "metadata": {},
   "outputs": [],
   "source": [
    "def gb_fit_sgd(n_trees, max_depth, X_train, X_test, y_train, y_test, coefs, eta, sample_size = 0.5):\n",
    "    \n",
    "    # Деревья будем записывать в список\n",
    "    trees = []\n",
    "    n_samples = X_train.shape[0]\n",
    "    # Будем записывать ошибки на обучающей и тестовой выборке на каждой итерации в список\n",
    "    train_errors = []\n",
    "    test_errors = []\n",
    "    \n",
    "    for i in range(n_trees):\n",
    "        tree = DecisionTreeRegressor(max_depth=max_depth, random_state=42)\n",
    "        indices = np.random.randint(0, n_samples, size=int(sample_size * n_samples))\n",
    "        X_train_sgd, y_train_sgd = X_train[indices], y_train[indices]\n",
    "\n",
    "        # инициализируем бустинг начальным алгоритмом, возвращающим ноль, \n",
    "        # поэтому первый алгоритм просто обучаем на выборке и добавляем в список\n",
    "        if len(trees) == 0:\n",
    "            # обучаем первое дерево на обучающей выборке\n",
    "            tree.fit(X_train_sgd, y_train_sgd)\n",
    "            \n",
    "            # ошибку посчитаем на всей обучающей и тестовой выборке:\n",
    "            train_errors.append(mean_squared_error(y_train, gb_predict(X_train, trees, coefs, eta)))\n",
    "            test_errors.append(mean_squared_error(y_test, gb_predict(X_test, trees, coefs, eta)))\n",
    "        else:\n",
    "            # Получим ответы на текущей композиции\n",
    "            target = gb_predict(X_train_sgd, trees, coefs, eta)\n",
    "            \n",
    "            # алгоритмы начиная со второго обучаем на сдвиг\n",
    "            tree.fit(X_train_sgd, bias(y_train_sgd, target))\n",
    "            \n",
    "            train_errors.append(mean_squared_error(y_train, gb_predict(X_train, trees, coefs, eta)))\n",
    "            test_errors.append(mean_squared_error(y_test, gb_predict(X_test, trees, coefs, eta)))\n",
    "\n",
    "        trees.append(tree)\n",
    "        \n",
    "    return trees, train_errors, test_errors"
   ]
  },
  {
   "cell_type": "code",
   "execution_count": 183,
   "id": "4952ba85",
   "metadata": {},
   "outputs": [],
   "source": [
    "n_trees = 20\n",
    "max_depth = 3\n",
    "eta = 0.1"
   ]
  },
  {
   "cell_type": "code",
   "execution_count": 184,
   "id": "310543b7",
   "metadata": {},
   "outputs": [
    {
     "name": "stdout",
     "output_type": "stream",
     "text": [
      "CPU times: user 7.37 s, sys: 21.2 ms, total: 7.39 s\n",
      "Wall time: 7.4 s\n"
     ]
    }
   ],
   "source": [
    "%%time \n",
    "trees, train_errors, test_errors = gb_fit(n_trees, max_depth, X_train, X_test, y_train, y_test, coefs, eta)"
   ]
  },
  {
   "cell_type": "code",
   "execution_count": 185,
   "id": "ecc3a996",
   "metadata": {},
   "outputs": [
    {
     "name": "stdout",
     "output_type": "stream",
     "text": [
      "CPU times: user 5.71 s, sys: 17.2 ms, total: 5.73 s\n",
      "Wall time: 5.74 s\n"
     ]
    }
   ],
   "source": [
    "%%time\n",
    "trees_sgd, train_errors_sgd, test_errors_sgd = gb_fit_sgd(n_trees, max_depth, X_train, X_test, y_train, y_test, coefs, eta, sample_size = 0.5)"
   ]
  },
  {
   "cell_type": "markdown",
   "id": "0c18e2bc",
   "metadata": {},
   "source": [
    "Можно заметить, что стохастический градиентный бустинг работает намного быстрее."
   ]
  },
  {
   "cell_type": "markdown",
   "id": "bab01316",
   "metadata": {},
   "source": [
    "#### График кривых изменения ошибки на тестовой выборке в зависимости от числа итераций"
   ]
  },
  {
   "cell_type": "code",
   "execution_count": 186,
   "id": "0bc3ef0d",
   "metadata": {},
   "outputs": [
    {
     "data": {
      "text/plain": [
       "<matplotlib.legend.Legend at 0x7faf8230ebe0>"
      ]
     },
     "execution_count": 186,
     "metadata": {},
     "output_type": "execute_result"
    },
    {
     "data": {
      "image/png": "[encoded data removed]",
      "text/plain": [
       "<Figure size 720x576 with 1 Axes>"
      ]
     },
     "metadata": {
      "needs_background": "light"
     },
     "output_type": "display_data"
    }
   ],
   "source": [
    "plt.figure(figsize=(10, 8))\n",
    "plt.plot(range(n_trees), test_errors, label='test_error_gb')\n",
    "plt.plot(range(n_trees), test_errors_sgd, label='test_error_sgb', linestyle='--')\n",
    "plt.xlabel('Количество итераций')\n",
    "plt.ylabel('MSE')\n",
    "plt.legend()"
   ]
  },
  {
   "cell_type": "markdown",
   "id": "e1037e7b",
   "metadata": {},
   "source": [
    "По графику можно заметить, что с увеличением числа итераций вначале ошибка на тестовой выборке падает при обоих вариантах градиентного спуска(классический GD и SGD). А вот после числа 10 уже значительно не изменяется."
   ]
  }
 ],
 "metadata": {
  "kernelspec": {
   "display_name": "Python 3",
   "language": "python",
   "name": "python3"
  },
  "language_info": {
   "codemirror_mode": {
    "name": "ipython",
    "version": 3
   },
   "file_extension": ".py",
   "mimetype": "text/x-python",
   "name": "python",
   "nbconvert_exporter": "python",
   "pygments_lexer": "ipython3",
   "version": "3.8.8"
  }
 },
 "nbformat": 4,
 "nbformat_minor": 5
}
