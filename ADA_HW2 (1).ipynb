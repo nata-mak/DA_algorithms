{
 "cells": [
  {
   "cell_type": "markdown",
   "id": "9ab39b88",
   "metadata": {},
   "source": [
    "## Масштабирование признаков. L1- и L2-регуляризация. Стохастический градиентный спуск"
   ]
  },
  {
   "cell_type": "markdown",
   "id": "37a5e6d7",
   "metadata": {},
   "source": [
    "### Задание 1\n",
    "Сгенерировать датасет при помощи sklearn.datasets.make_regression и обучить линейную модель при помощи градиентного и стохастического градиентного спуска. Нанести среднеквадратичную ошибку для обоих методов на один график, сделать выводы о разнице скорости сходимости каждого из методов."
   ]
  },
  {
   "cell_type": "code",
   "execution_count": 191,
   "id": "e1ac8aff",
   "metadata": {},
   "outputs": [],
   "source": [
    "import numpy as np\n",
    "import matplotlib.pyplot as plt\n",
    "from sklearn import datasets\n",
    "\n",
    "%matplotlib inline\n",
    "import warnings\n",
    "warnings.filterwarnings('ignore')"
   ]
  },
  {
   "cell_type": "code",
   "execution_count": 192,
   "id": "a62d695d",
   "metadata": {},
   "outputs": [],
   "source": [
    "# сгенерируем набор данных:\n",
    "X, Y, coef = datasets.make_regression(n_samples=1000, n_features=2, n_informative=2,\n",
    "                                      n_targets=1, noise=5, coef=True, random_state=2)\n",
    "\n",
    "X[:, 0] *= 10  #искусственно увеличим первый признак, чтобы потом провести стандартизацию\n",
    "#display(X, Y, coef)"
   ]
  },
  {
   "cell_type": "code",
   "execution_count": 193,
   "id": "80ef484c",
   "metadata": {},
   "outputs": [
    {
     "data": {
      "text/plain": [
       "(1000, 2)"
      ]
     },
     "execution_count": 193,
     "metadata": {},
     "output_type": "execute_result"
    }
   ],
   "source": [
    "X.shape"
   ]
  },
  {
   "cell_type": "markdown",
   "id": "d3c12e5a",
   "metadata": {},
   "source": [
    "Отмасштабируем признаки методом стандартизации:"
   ]
  },
  {
   "cell_type": "code",
   "execution_count": 194,
   "id": "dd5c4936",
   "metadata": {},
   "outputs": [
    {
     "data": {
      "text/plain": [
       "array([-0.79012702,  0.02045785])"
      ]
     },
     "metadata": {},
     "output_type": "display_data"
    },
    {
     "data": {
      "text/plain": [
       "array([9.85635367, 0.99101454])"
      ]
     },
     "metadata": {},
     "output_type": "display_data"
    }
   ],
   "source": [
    "# Получим средние значения и стандартное отклонение по столбцам:\n",
    "means = np.mean(X, axis=0)\n",
    "stds = np.std(X, axis=0)\n",
    "\n",
    "display(means, stds)"
   ]
  },
  {
   "cell_type": "code",
   "execution_count": 195,
   "id": "e2d9d94f",
   "metadata": {},
   "outputs": [
    {
     "data": {
      "text/plain": [
       "array([[ 0.46447924, -0.64462559],\n",
       "       [-0.58228272, -1.09738549],\n",
       "       [-1.00118525, -0.3706113 ],\n",
       "       ...,\n",
       "       [ 1.29208317,  0.98990825],\n",
       "       [ 0.20761816,  0.33516651],\n",
       "       [ 0.02259069,  0.39523966]])"
      ]
     },
     "execution_count": 195,
     "metadata": {},
     "output_type": "execute_result"
    }
   ],
   "source": [
    "# вычтем из каждого значения признака среднее и поделим на стандартное отклонение:\n",
    "for i in range(X.shape[0]):\n",
    "    for j in range(X.shape[1]):\n",
    "        X[i][j] = (X[i][j] - means[j]) / stds[j]\n",
    "    \n",
    "X"
   ]
  },
  {
   "cell_type": "code",
   "execution_count": 196,
   "id": "bc11e3fd",
   "metadata": {},
   "outputs": [
    {
     "data": {
      "text/plain": [
       "array([-2.40328590e-17,  9.54791801e-18])"
      ]
     },
     "metadata": {},
     "output_type": "display_data"
    },
    {
     "data": {
      "text/plain": [
       "array([1., 1.])"
      ]
     },
     "metadata": {},
     "output_type": "display_data"
    }
   ],
   "source": [
    "means = np.mean(X, axis=0)\n",
    "stds = np.std(X, axis=0)\n",
    "\n",
    "display(means, stds) # после стандартизации признаков получили среднее в нуле и среднее квадратичное отклонение, равное 1"
   ]
  },
  {
   "cell_type": "code",
   "execution_count": 197,
   "id": "65474737",
   "metadata": {},
   "outputs": [],
   "source": [
    "# функция нахождения MSE:\n",
    "def mse_error(X, w, y):\n",
    "    y_pred = X.dot(w)\n",
    "    return (sum((y_pred - y)**2))/len(y)"
   ]
  },
  {
   "cell_type": "markdown",
   "id": "4d6bcd82",
   "metadata": {},
   "source": [
    "Градиентный спуск:"
   ]
  },
  {
   "cell_type": "code",
   "execution_count": 198,
   "id": "f5333517",
   "metadata": {},
   "outputs": [
    {
     "name": "stdout",
     "output_type": "stream",
     "text": [
      "CPU times: user 2 µs, sys: 0 ns, total: 2 µs\n",
      "Wall time: 5.01 µs\n",
      "Iteration #: 0: new_w = [1.19602793 1.32362532], MSE = 7875.58\n",
      "Iteration #: 100: new_w = [53.00350458 58.46260608], MSE = 190.62\n",
      "Iteration #: 200: new_w = [60.25620569 66.38834625], MSE = 41.52\n",
      "Iteration #: 300: new_w = [61.27105576 67.48815951], MSE = 38.63\n",
      "Iteration #: 400: new_w = [61.41300062 67.64082996], MSE = 38.57\n",
      "Iteration #: 500: new_w = [61.43284656 67.66202988], MSE = 38.57\n",
      "Iteration #: 600: new_w = [61.43562035 67.6649746 ], MSE = 38.57\n",
      "Iteration #: 700: new_w = [61.43600792 67.66538374], MSE = 38.57\n",
      "Iteration #: 800: new_w = [61.43606205 67.6654406 ], MSE = 38.57\n",
      "Iteration #: 900: new_w = [61.43606961 67.6654485 ], MSE = 38.57\n",
      "В случае использования классического градиентного спуска ошибка составляет 38.5683\n"
     ]
    }
   ],
   "source": [
    "%time\n",
    "\n",
    "n = Y.shape[0]\n",
    "w = np.zeros(X.shape[1])\n",
    "w_list_gd = [w.copy()]\n",
    "errors_gd = []\n",
    "\n",
    "# Задаем шаг и максимальное число итераций:\n",
    "eta = 0.01\n",
    "max_iter =1e4\n",
    "\n",
    "# Задаем критерий сходимости (разница весов, при которой алгоритм останавливается) и начальную разницу весов:\n",
    "min_weight_dist = 1e-8\n",
    "weight_dist = np.inf\n",
    "\n",
    "iter_num = 0\n",
    "\n",
    "while weight_dist > min_weight_dist and iter_num < max_iter:\n",
    "    y_pred = X.dot(w)\n",
    "    new_w = w - eta * 2 / n * np.dot(X.T, (y_pred - Y))\n",
    "    weight_dist = np.linalg.norm(new_w - w, ord=2)\n",
    "    \n",
    "    error = mse_error(X, new_w, Y)\n",
    "    w_list_gd.append(new_w.copy())\n",
    "    errors_gd.append(error)\n",
    "    \n",
    "    if iter_num % 100 == 0:\n",
    "        print(f'Iteration #: {iter_num}: new_w = {new_w}, MSE = {round(error, 2)}')\n",
    "        \n",
    "    iter_num+=1\n",
    "    w = new_w\n",
    "    \n",
    "w_list_gd = np.array(w_list_gd)\n",
    "print(f'В случае использования классического градиентного спуска ошибка составляет {round(errors[-1], 4)}')"
   ]
  },
  {
   "cell_type": "markdown",
   "id": "bc27419f",
   "metadata": {},
   "source": [
    "Стохастический градиентный спуск:"
   ]
  },
  {
   "cell_type": "code",
   "execution_count": 199,
   "id": "d445ddd2",
   "metadata": {},
   "outputs": [
    {
     "name": "stdout",
     "output_type": "stream",
     "text": [
      "CPU times: user 2 µs, sys: 0 ns, total: 2 µs\n",
      "Wall time: 3.81 µs\n",
      "Iteration #: 0: new_w = [-0.8770491   1.16866253], MSE = 8143.11\n",
      "Iteration #: 1000: new_w = [61.07861683 67.98386733], MSE = 38.8\n",
      "Iteration #: 2000: new_w = [62.29173881 67.78620694], MSE = 39.31\n",
      "Iteration #: 3000: new_w = [61.33422363 68.2796771 ], MSE = 38.96\n",
      "Iteration #: 4000: new_w = [61.8446162  67.21734303], MSE = 38.94\n",
      "Iteration #: 5000: new_w = [59.62680026 68.25992513], MSE = 42.25\n",
      "Iteration #: 6000: new_w = [60.7603246 68.1133713], MSE = 39.24\n",
      "Iteration #: 7000: new_w = [60.44692874 68.75819781], MSE = 40.79\n",
      "Iteration #: 8000: new_w = [62.15069156 68.07171131], MSE = 39.23\n",
      "Iteration #: 9000: new_w = [61.16347289 67.56723337], MSE = 38.65\n",
      "В случае использования стохастического градиентного спуска ошибка составляет 38.5683\n"
     ]
    }
   ],
   "source": [
    "%time\n",
    "n = Y.shape[0]\n",
    "w = np.zeros(X.shape[1])\n",
    "w_list_sgd = [w.copy()]\n",
    "errors_sgd = []\n",
    "\n",
    "eta = 0.01\n",
    "max_iter =1e4\n",
    "min_weight_dist = 1e-8\n",
    "weight_dist = np.inf\n",
    "\n",
    "iter_num = 0\n",
    "\n",
    "np.random.seed(1234)\n",
    "\n",
    "# ход SGD:\n",
    "while weight_dist > min_weight_dist and iter_num < max_iter:\n",
    "     # генерируем случайный индекс объекта выборки\n",
    "    train_ind = np.random.randint(X.shape[0], size=1)\n",
    "    y_pred = X[train_ind].dot(w)\n",
    "    new_w = w - eta * 2 / Y[train_ind].shape[0] * np.dot(X[train_ind].T, y_pred - Y[train_ind])\n",
    "    weight_dist = np.linalg.norm(new_w - w, ord=2)\n",
    "    \n",
    "    error = mse_error(X, new_w, Y)\n",
    "    errors_sgd.append(error)\n",
    "    w_list_sgd.append(new_w.copy())\n",
    "    \n",
    "    if iter_num % 1000 == 0:\n",
    "        print(f'Iteration #: {iter_num}: new_w = {new_w}, MSE = {round(error, 2)}')\n",
    "        \n",
    "    iter_num+=1\n",
    "    w = new_w\n",
    "    \n",
    "w_list_sgd = np.array(w_list_sgd)\n",
    "\n",
    "print(f'В случае использования стохастического градиентного спуска ошибка составляет {round(errors[-1], 4)}')"
   ]
  },
  {
   "cell_type": "code",
   "execution_count": 200,
   "id": "3ddbef7d",
   "metadata": {},
   "outputs": [
    {
     "data": {
      "image/png": "[encoded data removed]",
      "text/plain": [
       "<Figure size 936x432 with 1 Axes>"
      ]
     },
     "metadata": {
      "needs_background": "light"
     },
     "output_type": "display_data"
    }
   ],
   "source": [
    "# Визуализируем изменение весов\n",
    "plt.figure(figsize=(13, 6))\n",
    "plt.title('Stochastic gradient descent')\n",
    "plt.xlabel(r'$w_1$')\n",
    "plt.ylabel(r'$w_2$')\n",
    "\n",
    "plt.scatter(w_list_gd[:, 0], w_list_gd[:, 1])\n",
    "plt.scatter(coef[0], coef[1], c='r', marker='v')\n",
    "plt.plot(w_list_gd[:, 0], w_list_gd[:, 1])\n",
    "\n",
    "plt.scatter(w_list_sgd[:, 0], w_list_sgd[:, 1])\n",
    "plt.plot(w_list_sgd[:, 0], w_list_sgd[:, 1])\n",
    "\n",
    "plt.show()"
   ]
  },
  {
   "cell_type": "code",
   "execution_count": 201,
   "id": "3ecf48d4",
   "metadata": {},
   "outputs": [
    {
     "data": {
      "image/png": "[encoded data removed]",
      "text/plain": [
       "<Figure size 1080x288 with 2 Axes>"
      ]
     },
     "metadata": {
      "needs_background": "light"
     },
     "output_type": "display_data"
    }
   ],
   "source": [
    "# Визуализируем изменение функционала ошибки\n",
    "fig, axs = plt.subplots(1, 2, figsize=(15, 4))\n",
    "ax1, ax2 = axs\n",
    "ax1.plot(range(len(errors_gd)), errors_gd)\n",
    "ax2.plot(range(len(errors_sgd)), errors_sgd)\n",
    "ax1.set_title('MSE for GD')\n",
    "ax2.set_title('MSE for SGD')\n",
    "ax1.set_xlabel('Iteration number')\n",
    "ax1.set_ylabel('MSE')\n",
    "ax2.set_xlabel('Iteration number')\n",
    "ax2.set_ylabel('MSE')\n",
    "ax2.set_xscale('log')\n",
    "\n",
    "plt.show()"
   ]
  },
  {
   "cell_type": "markdown",
   "id": "e93a13c2",
   "metadata": {},
   "source": [
    "#### Выводы о разнице скорости сходимости каждого из методов:\n",
    "Для стохастического градиентного спуска для достижения сходимости нужно намного большее количество итераций, но при этом алгоритм работает быстрее. Время на GD - 5.01 µs, время на SGD - 3.81 µs. Также по графику SGD видно, он немонотонный, так как мы уменьшаем на каждой итерации ошибку только на одном объекте, но при этом есть вероятность увеличить ее на другом объекте."
   ]
  },
  {
   "cell_type": "markdown",
   "id": "44dd2efb",
   "metadata": {},
   "source": [
    "### Задание 2\n",
    "Модифицировать решение первого задания путем добавления $L_{2}$-регуляризации (в функцию, считающую MSE добавить норму весов, а в поправку нужно добавить производную для нормы вектора весов по весам) и сравнить результаты."
   ]
  },
  {
   "cell_type": "code",
   "execution_count": 202,
   "id": "1cac6d14",
   "metadata": {},
   "outputs": [],
   "source": [
    "# L2-регуляризация:\n",
    "def mse_err_reg_l2(X, w, y, alpha=1e-8):\n",
    "    y_pred = X.dot(w)\n",
    "    Q = (sum((y_pred - y)**2))/len(y)\n",
    "    reg = alpha* sum(w**2)\n",
    "    return (Q + reg)"
   ]
  },
  {
   "cell_type": "code",
   "execution_count": 203,
   "id": "c73884c1",
   "metadata": {},
   "outputs": [
    {
     "name": "stdout",
     "output_type": "stream",
     "text": [
      "CPU times: user 1e+03 ns, sys: 1 µs, total: 2 µs\n",
      "Wall time: 3.1 µs\n",
      "Iter #: 0: new_weights = [-0.8770491   1.16866253], error = 8143.11\n",
      "Iter #: 1000: new_weights = [61.07861625 67.98386666], error = 38.8\n",
      "Iter #: 2000: new_weights = [62.29173809 67.78620633], error = 39.31\n",
      "Iter #: 3000: new_weights = [61.33422314 68.27967659], error = 38.96\n",
      "Iter #: 4000: new_weights = [61.84461549 67.21734271], error = 38.94\n",
      "Iter #: 5000: new_weights = [59.62679969 68.25992438], error = 42.25\n",
      "Iter #: 6000: new_weights = [60.76032399 68.1133706 ], error = 39.24\n",
      "Iter #: 7000: new_weights = [60.44692829 68.75819722], error = 40.79\n",
      "Iter #: 8000: new_weights = [62.1506908  68.07171047], error = 39.23\n",
      "Iter #: 9000: new_weights = [61.16347217 67.56723275], error = 38.65\n",
      "В случае использования стохастического градиентного спуска ошибка составляет 39.0067, число итераций:10000\n"
     ]
    }
   ],
   "source": [
    "%time\n",
    "n = Y.shape[0]\n",
    "w = np.zeros(X.shape[1])\n",
    "w_list_sgd_lr2 = [w.copy()]\n",
    "errors_sgd_lr2 = []\n",
    "\n",
    "eta = 0.01 # шаг спуска\n",
    "reg = 1e-8 # коэффициент регуляризации\n",
    "max_iter =1e4\n",
    "min_weight_dist = 1e-8\n",
    "weight_dist = np.inf\n",
    "\n",
    "iter_num = 0\n",
    "\n",
    "np.random.seed(1234)\n",
    "\n",
    "# ход SGD:\n",
    "while weight_dist > min_weight_dist and iter_num < max_iter:\n",
    "     # генерируем случайный индекс объекта выборки\n",
    "    train_ind = np.random.randint(X.shape[0], size=1)\n",
    "    y_pred = X[train_ind].dot(w)\n",
    "    dQ = 2 / Y[train_ind].shape[0] * np.dot(X[train_ind].T, y_pred - Y[train_ind]) #градиент функции ошибки\n",
    "    dReg = 2* reg * w # производная для нормы вектора весов по весам\n",
    "    new_w = w - eta *(dQ + dReg) \n",
    "    weight_dist = np.linalg.norm(new_w - w, ord=2)\n",
    "    \n",
    "    error = mse_err_reg_l2(X, new_w, Y)\n",
    "    errors_sgd_lr2.append(error)\n",
    "    w_list_sgd_lr2.append(new_w.copy())\n",
    "    \n",
    "    if iter_num % 1000 == 0:\n",
    "        print(f'Iter #: {iter_num}: new_weights = {new_w}, error = {round(error, 2)}')\n",
    "        \n",
    "    iter_num+=1\n",
    "    w = new_w\n",
    "    \n",
    "w_list_sgd_lr2 = np.array(w_list_sgd_lr2)\n",
    "\n",
    "print(f'В случае использования стохастического градиентного спуска ошибка составляет {round(errors_sgd_lr2[-1], 4)}, число итераций:{iter_num}')"
   ]
  },
  {
   "cell_type": "markdown",
   "id": "92bc5fee",
   "metadata": {},
   "source": [
    "После L2-регуляризации показатель ошибки увеличился (39.0067 против 38.5683 без регуляризации). Значения коэффициентов в нашем случае снизились в шестом знаке после запятой, взяла небольшой коэффициент регуляризации. "
   ]
  }
 ],
 "metadata": {
  "kernelspec": {
   "display_name": "Python 3",
   "language": "python",
   "name": "python3"
  },
  "language_info": {
   "codemirror_mode": {
    "name": "ipython",
    "version": 3
   },
   "file_extension": ".py",
   "mimetype": "text/x-python",
   "name": "python",
   "nbconvert_exporter": "python",
   "pygments_lexer": "ipython3",
   "version": "3.8.8"
  }
 },
 "nbformat": 4,
 "nbformat_minor": 5
}
